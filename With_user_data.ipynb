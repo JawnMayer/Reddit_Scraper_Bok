{
 "cells": [
  {
   "cell_type": "code",
   "execution_count": 3,
   "id": "bdea54c3-c24c-4377-b014-43d3eac1d638",
   "metadata": {},
   "outputs": [],
   "source": [
    "import pandas as pd\n",
    "from pprint import pprint\n",
    "import numpy as np"
   ]
  },
  {
   "cell_type": "code",
   "execution_count": 4,
   "id": "e8e3116e-f4be-48b7-a230-079c6c6a7495",
   "metadata": {},
   "outputs": [],
   "source": [
    "import praw\n",
    "\n",
    "user_agent = \"Scraper by me\" \n",
    "\n",
    "reddit = praw.Reddit(\n",
    "    client_id = \"umwjs-jFpZ37B5Sx669QhA\",\n",
    "    client_secret = \"_s7BHD2a6_pxEbprOYfWSX-H7Lg3vw\",\n",
    "    user_agent = user_agent\n",
    ")"
   ]
  },
  {
   "cell_type": "code",
   "execution_count": 11,
   "id": "ab7ab501-90d8-4b7e-bffe-c48108edae9e",
   "metadata": {},
   "outputs": [
    {
     "name": "stdout",
     "output_type": "stream",
     "text": [
      "Saturday Morning Political Cartoon Thread\n",
      "r8te9f\n",
      "optimalg\n",
      "1638635797.0\n",
      "92\n",
      "0.91\n",
      "https://www.reddit.com/r/politics/comments/r8te9f/saturday_morning_political_cartoon_thread/\n",
      "0\n"
     ]
    }
   ],
   "source": [
    "#can type .hot .top .new or .rising not sure if user data is useful here\n",
    "headlines = set()\n",
    "for submission in reddit.subreddit('politics').hot(limit=10):\n",
    "    print(submission.title)\n",
    "    print(submission.id)\n",
    "    print(submission.author)\n",
    "    print(submission.created_utc)\n",
    "    print(submission.score)\n",
    "    print(submission.upvote_ratio)\n",
    "    print(submission.url)\n",
    "    break\n",
    "    headlines.add(submission.title)\n",
    "print(len(headlines))"
   ]
  },
  {
   "cell_type": "code",
   "execution_count": null,
   "id": "206c6839-9567-4831-9805-2ba1b84362c5",
   "metadata": {},
   "outputs": [],
   "source": []
  }
 ],
 "metadata": {
  "kernelspec": {
   "display_name": "Python 3 (ipykernel)",
   "language": "python",
   "name": "python3"
  },
  "language_info": {
   "codemirror_mode": {
    "name": "ipython",
    "version": 3
   },
   "file_extension": ".py",
   "mimetype": "text/x-python",
   "name": "python",
   "nbconvert_exporter": "python",
   "pygments_lexer": "ipython3",
   "version": "3.10.0"
  }
 },
 "nbformat": 4,
 "nbformat_minor": 5
}
