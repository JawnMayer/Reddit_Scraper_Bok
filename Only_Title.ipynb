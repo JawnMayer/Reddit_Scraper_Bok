{
 "cells": [
  {
   "cell_type": "code",
   "execution_count": 1,
   "id": "d8b82a2d-50d9-475a-8e68-c4c98a0e802a",
   "metadata": {},
   "outputs": [
    {
     "ename": "SyntaxError",
     "evalue": "invalid syntax. Perhaps you forgot a comma? (3284255841.py, line 2)",
     "output_type": "error",
     "traceback": [
      "\u001b[0;36m  File \u001b[0;32m\"/var/folders/xh/c8j4mzdn6vx9gmsc_rs3yd580000gn/T/ipykernel_4419/3284255841.py\"\u001b[0;36m, line \u001b[0;32m2\u001b[0m\n\u001b[0;31m    pip install pandas\u001b[0m\n\u001b[0m        ^\u001b[0m\n\u001b[0;31mSyntaxError\u001b[0m\u001b[0;31m:\u001b[0m invalid syntax. Perhaps you forgot a comma?\n"
     ]
    }
   ],
   "source": [
    "#run if havent done so in terminal\n",
    "pip install pandas\n",
    "pip install pprint\n",
    "pip install numpy\n",
    "pip install praw"
   ]
  },
  {
   "cell_type": "code",
   "execution_count": 1,
   "id": "8f69589c-88f5-46d9-aba2-86d89774da02",
   "metadata": {},
   "outputs": [],
   "source": [
    "import pandas as pd\n",
    "from pprint import pprint\n",
    "import numpy as np"
   ]
  },
  {
   "cell_type": "code",
   "execution_count": 4,
   "id": "e1b4ca47-7928-41bc-9728-ba43df15c45d",
   "metadata": {
    "tags": []
   },
   "outputs": [],
   "source": [
    "#authentication and user agent is description of project\n",
    "#Put your keys here\n",
    "import praw\n",
    "\n",
    "user_agent = \"Scraper by me\" \n",
    "\n",
    "reddit = praw.Reddit(\n",
    "    client_id = \"umwjs-jFpZ37B5Sx669QhA\",\n",
    "    client_secret = \"_s7BHD2a6_pxEbprOYfWSX-H7Lg3vw\",\n",
    "    user_agent = user_agent\n",
    ")"
   ]
  },
  {
   "cell_type": "code",
   "execution_count": 5,
   "id": "68fdc63c-fe6b-4813-b88d-eb66bf8e0006",
   "metadata": {
    "tags": []
   },
   "outputs": [
    {
     "name": "stdout",
     "output_type": "stream",
     "text": [
      "698\n"
     ]
    }
   ],
   "source": [
    "#can type .hot .top .new or .rising but using hot because it is recent data & top is top of all time\n",
    "#can also use subreddit conservaitve or other\n",
    "#limit can limit number of posts and print shows how many headlines you got \n",
    "headlines = set()\n",
    "for submission in reddit.subreddit('conservative').hot(limit = None):\n",
    "    headlines.add(submission.title)\n",
    "print(len(headlines))"
   ]
  },
  {
   "cell_type": "code",
   "execution_count": 6,
   "id": "437f008d-9e77-4511-af7e-1d0572494b78",
   "metadata": {},
   "outputs": [
    {
     "data": {
      "text/html": [
       "<div>\n",
       "<style scoped>\n",
       "    .dataframe tbody tr th:only-of-type {\n",
       "        vertical-align: middle;\n",
       "    }\n",
       "\n",
       "    .dataframe tbody tr th {\n",
       "        vertical-align: top;\n",
       "    }\n",
       "\n",
       "    .dataframe thead th {\n",
       "        text-align: right;\n",
       "    }\n",
       "</style>\n",
       "<table border=\"1\" class=\"dataframe\">\n",
       "  <thead>\n",
       "    <tr style=\"text-align: right;\">\n",
       "      <th></th>\n",
       "      <th>0</th>\n",
       "    </tr>\n",
       "  </thead>\n",
       "  <tbody>\n",
       "    <tr>\n",
       "      <th>0</th>\n",
       "      <td>Protesters Block Street Outside Hotel Where Co...</td>\n",
       "    </tr>\n",
       "    <tr>\n",
       "      <th>1</th>\n",
       "      <td>\"Unlike Trump I Don't Shock Allies\": Biden On ...</td>\n",
       "    </tr>\n",
       "    <tr>\n",
       "      <th>2</th>\n",
       "      <td>Michigan school shooting: Crumbley lawyer says...</td>\n",
       "    </tr>\n",
       "    <tr>\n",
       "      <th>3</th>\n",
       "      <td>Sarah Silverman slams Joy Reid as media panics...</td>\n",
       "    </tr>\n",
       "    <tr>\n",
       "      <th>4</th>\n",
       "      <td>New York City Implementing COVID Vaccine Manda...</td>\n",
       "    </tr>\n",
       "  </tbody>\n",
       "</table>\n",
       "</div>"
      ],
      "text/plain": [
       "                                                   0\n",
       "0  Protesters Block Street Outside Hotel Where Co...\n",
       "1  \"Unlike Trump I Don't Shock Allies\": Biden On ...\n",
       "2  Michigan school shooting: Crumbley lawyer says...\n",
       "3  Sarah Silverman slams Joy Reid as media panics...\n",
       "4  New York City Implementing COVID Vaccine Manda..."
      ]
     },
     "execution_count": 6,
     "metadata": {},
     "output_type": "execute_result"
    }
   ],
   "source": [
    "df = pd.DataFrame(headlines)\n",
    "df.head()"
   ]
  },
  {
   "cell_type": "code",
   "execution_count": 7,
   "id": "0d6e6941-8920-42c2-8887-cdcf8800dc9c",
   "metadata": {},
   "outputs": [],
   "source": [
    "df.to_csv('headlines.csv', header = False, encoding = 'utf-8', index=False)"
   ]
  },
  {
   "cell_type": "code",
   "execution_count": 8,
   "id": "c70d94e8-0bba-4eb4-9d58-be048547a627",
   "metadata": {},
   "outputs": [],
   "source": [
    "# if nltk does not download package use this answer and instal vader_lexicon package\n",
    "# https://stackoverflow.com/questions/38916452/nltk-download-ssl-certificate-verify-failed"
   ]
  },
  {
   "cell_type": "code",
   "execution_count": 9,
   "id": "1dc33cc8-0b90-4a86-9216-cd00770b2dda",
   "metadata": {},
   "outputs": [
    {
     "name": "stdout",
     "output_type": "stream",
     "text": [
      "showing info https://raw.githubusercontent.com/nltk/nltk_data/gh-pages/index.xml\n"
     ]
    },
    {
     "data": {
      "text/plain": [
       "True"
      ]
     },
     "execution_count": 9,
     "metadata": {},
     "output_type": "execute_result"
    }
   ],
   "source": [
    "import nltk\n",
    "import ssl\n",
    "\n",
    "try:\n",
    "    _create_unverified_https_context = ssl._create_unverified_context\n",
    "except AttributeError:\n",
    "    pass\n",
    "else:\n",
    "    ssl._create_default_https_context = _create_unverified_https_context\n",
    "\n",
    "nltk.download()"
   ]
  },
  {
   "cell_type": "code",
   "execution_count": 10,
   "id": "3dc1b0fd-e739-4177-89ec-fb3fdb3e3d7f",
   "metadata": {},
   "outputs": [
    {
     "name": "stderr",
     "output_type": "stream",
     "text": [
      "[nltk_data] Downloading package vader_lexicon to\n",
      "[nltk_data]     /Users/alex/nltk_data...\n",
      "[nltk_data]   Package vader_lexicon is already up-to-date!\n"
     ]
    },
    {
     "data": {
      "text/plain": [
       "True"
      ]
     },
     "execution_count": 10,
     "metadata": {},
     "output_type": "execute_result"
    }
   ],
   "source": [
    "import nltk\n",
    "nltk.download('vader_lexicon')"
   ]
  },
  {
   "cell_type": "code",
   "execution_count": 11,
   "id": "1c7b3e97-d867-422e-9ca2-476867ff05c9",
   "metadata": {},
   "outputs": [
    {
     "name": "stdout",
     "output_type": "stream",
     "text": [
      "[{'compound': -0.5859,\n",
      "  'headline': 'Protesters Block Street Outside Hotel Where Conservative Activist Was Speaking',\n",
      "  'neg': 0.375,\n",
      "  'neu': 0.625,\n",
      "  'pos': 0.0},\n",
      " {'compound': -0.3434,\n",
      "  'headline': '\"Unlike Trump I Don\\'t Shock Allies\": Biden On Expanding Omicron Travel Ban',\n",
      "  'neg': 0.244,\n",
      "  'neu': 0.609,\n",
      "  'pos': 0.148},\n",
      " {'compound': -0.3818,\n",
      "  'headline': 'Michigan school shooting: Crumbley lawyer says gun was locked up, accuses '\n",
      "              'prosecutor of creating media circus',\n",
      "  'neg': 0.24,\n",
      "  'neu': 0.65,\n",
      "  'pos': 0.11}]\n"
     ]
    }
   ],
   "source": [
    "#runs sentiment analysis and checks if it work with 3 entries\n",
    "from nltk.sentiment.vader import SentimentIntensityAnalyzer as SIA\n",
    "\n",
    "sia = SIA()\n",
    "results = []\n",
    "\n",
    "for line in headlines:\n",
    "    pol_score = sia.polarity_scores(line)\n",
    "    pol_score['headline'] = line\n",
    "    results.append(pol_score)\n",
    "    \n",
    "pprint(results[:3], width=100)"
   ]
  },
  {
   "cell_type": "code",
   "execution_count": 12,
   "id": "30c3c7cc-be26-4b5d-8322-d38ca14280ae",
   "metadata": {},
   "outputs": [
    {
     "data": {
      "text/html": [
       "<div>\n",
       "<style scoped>\n",
       "    .dataframe tbody tr th:only-of-type {\n",
       "        vertical-align: middle;\n",
       "    }\n",
       "\n",
       "    .dataframe tbody tr th {\n",
       "        vertical-align: top;\n",
       "    }\n",
       "\n",
       "    .dataframe thead th {\n",
       "        text-align: right;\n",
       "    }\n",
       "</style>\n",
       "<table border=\"1\" class=\"dataframe\">\n",
       "  <thead>\n",
       "    <tr style=\"text-align: right;\">\n",
       "      <th></th>\n",
       "      <th>neg</th>\n",
       "      <th>neu</th>\n",
       "      <th>pos</th>\n",
       "      <th>compound</th>\n",
       "      <th>headline</th>\n",
       "    </tr>\n",
       "  </thead>\n",
       "  <tbody>\n",
       "    <tr>\n",
       "      <th>0</th>\n",
       "      <td>0.375</td>\n",
       "      <td>0.625</td>\n",
       "      <td>0.000</td>\n",
       "      <td>-0.5859</td>\n",
       "      <td>Protesters Block Street Outside Hotel Where Co...</td>\n",
       "    </tr>\n",
       "    <tr>\n",
       "      <th>1</th>\n",
       "      <td>0.244</td>\n",
       "      <td>0.609</td>\n",
       "      <td>0.148</td>\n",
       "      <td>-0.3434</td>\n",
       "      <td>\"Unlike Trump I Don't Shock Allies\": Biden On ...</td>\n",
       "    </tr>\n",
       "    <tr>\n",
       "      <th>2</th>\n",
       "      <td>0.240</td>\n",
       "      <td>0.650</td>\n",
       "      <td>0.110</td>\n",
       "      <td>-0.3818</td>\n",
       "      <td>Michigan school shooting: Crumbley lawyer says...</td>\n",
       "    </tr>\n",
       "    <tr>\n",
       "      <th>3</th>\n",
       "      <td>0.140</td>\n",
       "      <td>0.676</td>\n",
       "      <td>0.184</td>\n",
       "      <td>0.2263</td>\n",
       "      <td>Sarah Silverman slams Joy Reid as media panics...</td>\n",
       "    </tr>\n",
       "    <tr>\n",
       "      <th>4</th>\n",
       "      <td>0.000</td>\n",
       "      <td>1.000</td>\n",
       "      <td>0.000</td>\n",
       "      <td>0.0000</td>\n",
       "      <td>New York City Implementing COVID Vaccine Manda...</td>\n",
       "    </tr>\n",
       "  </tbody>\n",
       "</table>\n",
       "</div>"
      ],
      "text/plain": [
       "     neg    neu    pos  compound  \\\n",
       "0  0.375  0.625  0.000   -0.5859   \n",
       "1  0.244  0.609  0.148   -0.3434   \n",
       "2  0.240  0.650  0.110   -0.3818   \n",
       "3  0.140  0.676  0.184    0.2263   \n",
       "4  0.000  1.000  0.000    0.0000   \n",
       "\n",
       "                                            headline  \n",
       "0  Protesters Block Street Outside Hotel Where Co...  \n",
       "1  \"Unlike Trump I Don't Shock Allies\": Biden On ...  \n",
       "2  Michigan school shooting: Crumbley lawyer says...  \n",
       "3  Sarah Silverman slams Joy Reid as media panics...  \n",
       "4  New York City Implementing COVID Vaccine Manda...  "
      ]
     },
     "execution_count": 12,
     "metadata": {},
     "output_type": "execute_result"
    }
   ],
   "source": [
    "#Create dataframe of results and show beginning of the dataframe\n",
    "df = pd.DataFrame.from_records(results)\n",
    "df.head()"
   ]
  },
  {
   "cell_type": "code",
   "execution_count": 13,
   "id": "772239e0-2c9f-4525-86ae-10eb5d6f25c9",
   "metadata": {},
   "outputs": [
    {
     "data": {
      "text/html": [
       "<div>\n",
       "<style scoped>\n",
       "    .dataframe tbody tr th:only-of-type {\n",
       "        vertical-align: middle;\n",
       "    }\n",
       "\n",
       "    .dataframe tbody tr th {\n",
       "        vertical-align: top;\n",
       "    }\n",
       "\n",
       "    .dataframe thead th {\n",
       "        text-align: right;\n",
       "    }\n",
       "</style>\n",
       "<table border=\"1\" class=\"dataframe\">\n",
       "  <thead>\n",
       "    <tr style=\"text-align: right;\">\n",
       "      <th></th>\n",
       "      <th>neg</th>\n",
       "      <th>neu</th>\n",
       "      <th>pos</th>\n",
       "      <th>compound</th>\n",
       "      <th>headline</th>\n",
       "      <th>label</th>\n",
       "    </tr>\n",
       "  </thead>\n",
       "  <tbody>\n",
       "    <tr>\n",
       "      <th>0</th>\n",
       "      <td>0.375</td>\n",
       "      <td>0.625</td>\n",
       "      <td>0.000</td>\n",
       "      <td>-0.5859</td>\n",
       "      <td>Protesters Block Street Outside Hotel Where Co...</td>\n",
       "      <td>-1</td>\n",
       "    </tr>\n",
       "    <tr>\n",
       "      <th>1</th>\n",
       "      <td>0.244</td>\n",
       "      <td>0.609</td>\n",
       "      <td>0.148</td>\n",
       "      <td>-0.3434</td>\n",
       "      <td>\"Unlike Trump I Don't Shock Allies\": Biden On ...</td>\n",
       "      <td>-1</td>\n",
       "    </tr>\n",
       "    <tr>\n",
       "      <th>2</th>\n",
       "      <td>0.240</td>\n",
       "      <td>0.650</td>\n",
       "      <td>0.110</td>\n",
       "      <td>-0.3818</td>\n",
       "      <td>Michigan school shooting: Crumbley lawyer says...</td>\n",
       "      <td>-1</td>\n",
       "    </tr>\n",
       "    <tr>\n",
       "      <th>3</th>\n",
       "      <td>0.140</td>\n",
       "      <td>0.676</td>\n",
       "      <td>0.184</td>\n",
       "      <td>0.2263</td>\n",
       "      <td>Sarah Silverman slams Joy Reid as media panics...</td>\n",
       "      <td>1</td>\n",
       "    </tr>\n",
       "    <tr>\n",
       "      <th>4</th>\n",
       "      <td>0.000</td>\n",
       "      <td>1.000</td>\n",
       "      <td>0.000</td>\n",
       "      <td>0.0000</td>\n",
       "      <td>New York City Implementing COVID Vaccine Manda...</td>\n",
       "      <td>0</td>\n",
       "    </tr>\n",
       "  </tbody>\n",
       "</table>\n",
       "</div>"
      ],
      "text/plain": [
       "     neg    neu    pos  compound  \\\n",
       "0  0.375  0.625  0.000   -0.5859   \n",
       "1  0.244  0.609  0.148   -0.3434   \n",
       "2  0.240  0.650  0.110   -0.3818   \n",
       "3  0.140  0.676  0.184    0.2263   \n",
       "4  0.000  1.000  0.000    0.0000   \n",
       "\n",
       "                                            headline  label  \n",
       "0  Protesters Block Street Outside Hotel Where Co...     -1  \n",
       "1  \"Unlike Trump I Don't Shock Allies\": Biden On ...     -1  \n",
       "2  Michigan school shooting: Crumbley lawyer says...     -1  \n",
       "3  Sarah Silverman slams Joy Reid as media panics...      1  \n",
       "4  New York City Implementing COVID Vaccine Manda...      0  "
      ]
     },
     "execution_count": 13,
     "metadata": {},
     "output_type": "execute_result"
    }
   ],
   "source": [
    "#Labeling as positve or negative given values \n",
    "df['label'] = 0\n",
    "df.loc[df['compound'] > 0.2, 'label'] = 1\n",
    "df.loc[df['compound'] < -0.2, 'label'] = -1\n",
    "df.head()"
   ]
  },
  {
   "cell_type": "code",
   "execution_count": 14,
   "id": "7b2fb0e7-a81b-412e-ae5d-d416612ca237",
   "metadata": {},
   "outputs": [],
   "source": [
    "#Creating new dataframe to get ride of everything except headline and label \n",
    "df2 = df[['headline', 'label']]"
   ]
  },
  {
   "cell_type": "code",
   "execution_count": 15,
   "id": "5be61cbc-2116-4d9d-98b6-03ef88ad4d3d",
   "metadata": {},
   "outputs": [],
   "source": [
    "df2.to_csv('reddit_headlines_labels.csv', encoding = 'utf-8', index=False)"
   ]
  },
  {
   "cell_type": "code",
   "execution_count": 16,
   "id": "90dfc2e3-045f-495a-b642-57f10cde43d8",
   "metadata": {},
   "outputs": [
    {
     "data": {
      "text/plain": [
       "-1    304\n",
       " 0    268\n",
       " 1    126\n",
       "Name: label, dtype: int64"
      ]
     },
     "execution_count": 16,
     "metadata": {},
     "output_type": "execute_result"
    }
   ],
   "source": [
    "#Shows count of how many positive and negative headlines\n",
    "df.label.value_counts()"
   ]
  },
  {
   "cell_type": "code",
   "execution_count": 17,
   "id": "30715df0-41f6-4a5d-9e5b-644c590f0575",
   "metadata": {},
   "outputs": [
    {
     "data": {
      "text/plain": [
       "-1    43.553009\n",
       " 0    38.395415\n",
       " 1    18.051576\n",
       "Name: label, dtype: float64"
      ]
     },
     "execution_count": 17,
     "metadata": {},
     "output_type": "execute_result"
    }
   ],
   "source": [
    "#Shows the percentage of each type of headline\n",
    "df.label.value_counts(normalize=True) * 100"
   ]
  },
  {
   "cell_type": "code",
   "execution_count": 18,
   "id": "36b3f12c-825e-41f2-83f3-7d59d7026c76",
   "metadata": {},
   "outputs": [
    {
     "name": "stdout",
     "output_type": "stream",
     "text": [
      "Positive headlines:\n",
      "\n",
      "[\"Sarah Silverman slams Joy Reid as media panics about DeSantis' proposed civilian military force in Florida\",\n",
      " 'Dec 2, 2021 - Canadian video platform Rumble, popular with right-wing users, will go public via SPAC at a $2.1B valuation and expects to raise around $400M (Radhika Anilkumar/Reuters)... '\n",
      " 'https://www.reuters.com/markets/funds/video-platform-rumble-go-public-via-21-bln-spac-deal-2021-12-02/',\n",
      " \"German Health Minister: 'We Must Take Large Groups Of Unvaccinated And Concentrate Them Into Special Camps'\",\n",
      " 'Texas: ‘Miraculous’ Baby Born 18 Weeks Early Home for the Holidays',\n",
      " '#keepkyle at ASU petition, both in support of Kyle, and in opposition to the students trying to have him barred.']\n",
      "\n",
      "Negative headlines:\n",
      "\n",
      "['Protesters Block Street Outside Hotel Where Conservative Activist Was Speaking',\n",
      " '\"Unlike Trump I Don\\'t Shock Allies\": Biden On Expanding Omicron Travel Ban',\n",
      " 'Michigan school shooting: Crumbley lawyer says gun was locked up, accuses prosecutor of creating media circus',\n",
      " \"'Do You Feel Safe?' MSNBC's Cross Suggests Boebert Might Shoot Democrats\",\n",
      " \"Washington Post mocks DCCC's tweet on gas prices: 'might be the worst defense of the Biden administration yet'\"]\n"
     ]
    }
   ],
   "source": [
    "print(\"Positive headlines:\\n\")\n",
    "pprint(list(df[df['label'] == 1].headline)[:5], width=200)\n",
    "\n",
    "print(\"\\nNegative headlines:\\n\")\n",
    "pprint(list(df[df['label'] == -1].headline)[:5], width=200)\n"
   ]
  }
 ],
 "metadata": {
  "kernelspec": {
   "display_name": "Python 3 (ipykernel)",
   "language": "python",
   "name": "python3"
  },
  "language_info": {
   "codemirror_mode": {
    "name": "ipython",
    "version": 3
   },
   "file_extension": ".py",
   "mimetype": "text/x-python",
   "name": "python",
   "nbconvert_exporter": "python",
   "pygments_lexer": "ipython3",
   "version": "3.10.0"
  }
 },
 "nbformat": 4,
 "nbformat_minor": 5
}
